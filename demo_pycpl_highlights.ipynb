{
 "cells": [
  {
   "cell_type": "code",
   "execution_count": 1,
   "id": "2e63e82b-7090-4090-b39d-26f89e074d2e",
   "metadata": {},
   "outputs": [
    {
     "ename": "ImportError",
     "evalue": "/home/ahorton/miniconda3/envs/cpl_py310/bin/../lib/libstdc++.so.6: version `GLIBCXX_3.4.29' not found (required by /home/ahorton/miniconda3/envs/cpl_py310/lib/python3.10/site-packages/cpl.cpython-310-x86_64-linux-gnu.so)",
     "output_type": "error",
     "traceback": [
      "\u001b[0;31m---------------------------------------------------------------------------\u001b[0m",
      "\u001b[0;31mImportError\u001b[0m                               Traceback (most recent call last)",
      "\u001b[0;32m/tmp/ipykernel_26179/3919034934.py\u001b[0m in \u001b[0;36m<module>\u001b[0;34m\u001b[0m\n\u001b[0;32m----> 1\u001b[0;31m \u001b[0;32mimport\u001b[0m \u001b[0mcpl\u001b[0m\u001b[0;34m\u001b[0m\u001b[0;34m\u001b[0m\u001b[0m\n\u001b[0m",
      "\u001b[0;31mImportError\u001b[0m: /home/ahorton/miniconda3/envs/cpl_py310/bin/../lib/libstdc++.so.6: version `GLIBCXX_3.4.29' not found (required by /home/ahorton/miniconda3/envs/cpl_py310/lib/python3.10/site-packages/cpl.cpython-310-x86_64-linux-gnu.so)"
     ]
    }
   ],
   "source": [
    "import cpl"
   ]
  },
  {
   "cell_type": "code",
   "execution_count": 2,
   "id": "f4910534-94f2-40d7-84ee-17c6129fb4ac",
   "metadata": {},
   "outputs": [
    {
     "data": {
      "text/plain": [
       "['__doc__',\n",
       " '__file__',\n",
       " '__loader__',\n",
       " '__name__',\n",
       " '__package__',\n",
       " '__spec__',\n",
       " 'core',\n",
       " 'dfs',\n",
       " 'drs',\n",
       " 'ui']"
      ]
     },
     "execution_count": 2,
     "metadata": {},
     "output_type": "execute_result"
    }
   ],
   "source": [
    "dir(cpl)"
   ]
  },
  {
   "cell_type": "code",
   "execution_count": 3,
   "id": "8c1a61e2-438f-4773-82dd-1a2cee2d9f31",
   "metadata": {},
   "outputs": [
    {
     "data": {
      "text/plain": [
       "['AccessOutOfRangeError',\n",
       " 'AssigningStreamError',\n",
       " 'BadFileFormatError',\n",
       " 'Bivector',\n",
       " 'Border',\n",
       " 'Collection',\n",
       " 'ContinueError',\n",
       " 'DataNotFoundError',\n",
       " 'DivisionByZeroError',\n",
       " 'DuplicatingStreamError',\n",
       " 'EOLError',\n",
       " 'Error',\n",
       " 'ErrorFrame',\n",
       " 'ErrorLostError',\n",
       " 'FileAlreadyOpenError',\n",
       " 'FileIOError',\n",
       " 'FileNotCreatedError',\n",
       " 'FileNotFoundError',\n",
       " 'Filter',\n",
       " 'FitGaussianOutput',\n",
       " 'FitMode',\n",
       " 'IllegalInputError',\n",
       " 'IllegalOutputError',\n",
       " 'Image',\n",
       " 'ImageList',\n",
       " 'ImageRow',\n",
       " 'IncompatibleInputError',\n",
       " 'InvalidTypeError',\n",
       " 'Kernel',\n",
       " 'Mask',\n",
       " 'Matrix',\n",
       " 'MatrixRow',\n",
       " 'Msg',\n",
       " 'MutableSequence',\n",
       " 'NoWCSError',\n",
       " 'NullInputError',\n",
       " 'Property',\n",
       " 'PropertyList',\n",
       " 'Sequence',\n",
       " 'SingularMatrixError',\n",
       " 'Sort',\n",
       " 'SortMode',\n",
       " 'Table',\n",
       " 'Type',\n",
       " 'TypeMismatchError',\n",
       " 'UnspecifiedError',\n",
       " 'UnsupportedModeError',\n",
       " 'Vector',\n",
       " 'VectorIterator',\n",
       " '_Error_Data',\n",
       " '_Mask1D',\n",
       " '_TableColumn',\n",
       " '__builtins__',\n",
       " '__doc__',\n",
       " '__loader__',\n",
       " '__name__',\n",
       " '__package__',\n",
       " '__spec__',\n",
       " 'abstractmethod',\n",
       " 'io',\n",
       " 'np',\n",
       " 'polynomial']"
      ]
     },
     "execution_count": 3,
     "metadata": {},
     "output_type": "execute_result"
    }
   ],
   "source": [
    "dir(cpl.core)"
   ]
  },
  {
   "cell_type": "code",
   "execution_count": 4,
   "id": "89c1f65e-aacc-45ef-8cc1-835ae4ed162f",
   "metadata": {},
   "outputs": [
    {
     "data": {
      "text/plain": [
       "['__doc__',\n",
       " '__loader__',\n",
       " '__name__',\n",
       " '__package__',\n",
       " '__spec__',\n",
       " 'save_paf',\n",
       " 'sign_products',\n",
       " 'update_product_header']"
      ]
     },
     "execution_count": 4,
     "metadata": {},
     "output_type": "execute_result"
    }
   ],
   "source": [
    "dir(cpl.dfs)"
   ]
  },
  {
   "cell_type": "code",
   "execution_count": 5,
   "id": "d5b27c21-fe90-4115-aab5-4385f8d61fe7",
   "metadata": {},
   "outputs": [
    {
     "data": {
      "text/plain": [
       "['__doc__', '__loader__', '__name__', '__package__', '__spec__', 'fft']"
      ]
     },
     "execution_count": 5,
     "metadata": {},
     "output_type": "execute_result"
    }
   ],
   "source": [
    "dir(cpl.drs)"
   ]
  },
  {
   "cell_type": "code",
   "execution_count": 6,
   "id": "05b1b2a3-cc95-443b-b8b9-31cf95f00055",
   "metadata": {},
   "outputs": [
    {
     "data": {
      "text/plain": [
       "['AbstractRecipe',\n",
       " 'CRecipe',\n",
       " 'FileNotFoundException',\n",
       " 'Frame',\n",
       " 'FrameSet',\n",
       " 'Parameter',\n",
       " 'ParameterEnum',\n",
       " 'ParameterList',\n",
       " 'ParameterRange',\n",
       " 'ParameterValue',\n",
       " 'PyRecipe',\n",
       " 'RecipeNotFoundException',\n",
       " '__builtins__',\n",
       " '__doc__',\n",
       " '__loader__',\n",
       " '__name__',\n",
       " '__package__',\n",
       " '__spec__',\n",
       " 'abc']"
      ]
     },
     "execution_count": 6,
     "metadata": {},
     "output_type": "execute_result"
    }
   ],
   "source": [
    "dir(cpl.ui)"
   ]
  },
  {
   "cell_type": "code",
   "execution_count": null,
   "id": "44a1c5ff-72f3-4cd1-b2b7-b14f38d3657c",
   "metadata": {},
   "outputs": [],
   "source": []
  }
 ],
 "metadata": {
  "kernelspec": {
   "display_name": "cpl_py310",
   "language": "python",
   "name": "cpl_py310"
  },
  "language_info": {
   "codemirror_mode": {
    "name": "ipython",
    "version": 3
   },
   "file_extension": ".py",
   "mimetype": "text/x-python",
   "name": "python",
   "nbconvert_exporter": "python",
   "pygments_lexer": "ipython3",
   "version": "3.10.0"
  }
 },
 "nbformat": 4,
 "nbformat_minor": 5
}
