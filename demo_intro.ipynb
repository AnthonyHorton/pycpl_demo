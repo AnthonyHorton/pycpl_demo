{
 "cells": [
  {
   "cell_type": "markdown",
   "id": "d53ecefa-3360-48bb-ba8b-d30292b5b109",
   "metadata": {},
   "source": [
    "# Introduction\n",
    "\n",
    "## What is CPL?\n",
    "\n",
    "> The Common Pipeline Library (CPL) comprises a set of ISO-C libraries that provide a comprehensive, efficient and robust software toolkit to develop astronomical data-reduction tasks (known as \"recipes\"). These data-reduction tasks can then be executed manually by a user, or can be triggered in an automated data-reduction framework (known as \"pipelines\") which are used at ESO to monitor the health status of VLT instruments, for quick-look data processing at the observatory, and the creation of data products available from the ESO archive facility.\n",
    "\n",
    "(from https://www.eso.org/sci/software/cpl/)\n",
    "\n",
    "CPL has been the fundamental tool for building data reduction pipelines for ESO VLT instruments since its original release in 2003, and will continue to be the basis for ELT instrument pipelines.\n",
    "\n",
    "### Pipelines and recipes\n",
    "\n",
    "CPL data reduction pipelines are built from \"recipes\", in the form of compiled shared object libraries (`.so` files). Each recipe takes a list of input files, performs a data processing task on them, and produces a set of output files. Each recipe also has a set of parameters that control the details of the processing. Raw data are converted to processed data products by daisy-chaining recipes together.\n",
    "\n",
    "### CPL functionality\n",
    "\n",
    "In addition to the framework required to create and run recipes CPL provides:\n",
    "\n",
    "* Data types for representing images, masks, tables, matrices, property lists, etc,\n",
    "* Statistics, arithmetic and conversion operations for these data types.\n",
    "* Higher level tools (e.g. WCS, geometric transformation, wavelength calibration, etc.)\n",
    "* Data access tools for managing FITS files, table data, etc.\n",
    "* Methods for integrating data products into the ESO Data Flow System.\n",
    "* Provides the basis for ESO HDRL high level algorithmic library.\n",
    "\n",
    "### Running pipelines and recipes\n",
    "\n",
    "There are 3 existing tools for running CPL recipes:\n",
    "\n",
    "1. **Reflex**: Graphical environment for reducing data using CPL based pipelines. \n",
    "1. **GASGANO**: Graphical data file organisation tool that also supports running CPL recipes on the data.\n",
    "1. **EsoRex**: Command line utility for running CPL recipes.\n",
    "\n",
    "## What is PyCPL?\n",
    "\n",
    "CPL was developed in C for reasons of efficiency and speed of execution, and it is well tested and understood. However the increasing popularity of Python for astronomical algorithm prototyping and data reduction has created a need to provide access to CPL from a Python environment. PyCPL is intended to provide this access in two ways:\n",
    "\n",
    "* Provide the ability to run existing CPL recipes (written in C) and access the results from Python.\n",
    "* Crete new recipes in Python using functionality provided by CPL.\n",
    "\n",
    "Taken together these make it possible to develop new pipelines in Python. These can seamlessly combine existing CPL recipes with new Python recipes that leverage the functionality provided by CPL, together with other scientific Python libraries such as numpy, scipy, astropy, pandas, and matplotlib.\n",
    "\n",
    "### PyEsoRex\n",
    "\n",
    "PyEsoRex is a new recipe execution tool that has both a command line interface (intended as a 'drop in' replacement for EsoRex) as well as an object orientated Python API for use from Python code or interactive Python sessions. PyEsoRex can execute both CPL and PyCPL recipes.\n",
    "\n",
    "### PyCPL recipes\n",
    "\n",
    "PyCPL provides an idiomatic, object oriented Python interface to the CPL library, as well as a template for Python recipes in the form of a PyRecipe base class.\n",
    "\n",
    "## Caveats\n",
    "\n",
    "* PyCPL is currently pre-beta so all details presented here are subject to change before release.\n",
    "* ESO standards still require pipelines for ESO instruments to be implemented in CPL. However PyCPL will soon provide a way to rapidly prototype recipes and pipelines in Python as well as developing pipelines for other purposes."
   ]
  }
 ],
 "metadata": {
  "kernelspec": {
   "display_name": "Python 3 (ipykernel)",
   "language": "python",
   "name": "python3"
  },
  "language_info": {
   "codemirror_mode": {
    "name": "ipython",
    "version": 3
   },
   "file_extension": ".py",
   "mimetype": "text/x-python",
   "name": "python",
   "nbconvert_exporter": "python",
   "pygments_lexer": "ipython3",
   "version": "3.9.7"
  }
 },
 "nbformat": 4,
 "nbformat_minor": 5
}
