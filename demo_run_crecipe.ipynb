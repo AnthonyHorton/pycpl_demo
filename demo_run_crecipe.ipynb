{
 "cells": [
  {
   "cell_type": "markdown",
   "id": "b325b9c0-b993-423e-923f-1c63b7f57110",
   "metadata": {
    "tags": []
   },
   "source": [
    "# Running a CPL recipe from Python using PyEsoRex"
   ]
  },
  {
   "cell_type": "code",
   "execution_count": 1,
   "id": "98cbb4ff-9704-40e6-935a-c3c3048ea984",
   "metadata": {
    "tags": []
   },
   "outputs": [],
   "source": [
    "from matplotlib import pyplot as plt\n",
    "from astropy.visualization import PercentileInterval, ImageNormalize\n",
    "\n",
    "plt.rcParams['figure.figsize'] = 12, 12"
   ]
  },
  {
   "cell_type": "markdown",
   "id": "ab64b64e-4774-4973-850d-03343c899fd2",
   "metadata": {
    "tags": []
   },
   "source": [
    "## Importing the Pyesorex class"
   ]
  },
  {
   "cell_type": "code",
   "execution_count": 2,
   "id": "32d6d3c8-41e8-433f-bdf5-d54a8856d951",
   "metadata": {},
   "outputs": [
    {
     "ename": "ImportError",
     "evalue": "/home/ahorton/miniconda3/envs/cpl_py310/bin/../lib/libstdc++.so.6: version `GLIBCXX_3.4.29' not found (required by /home/ahorton/miniconda3/envs/cpl_py310/lib/python3.10/site-packages/cpl.cpython-310-x86_64-linux-gnu.so)",
     "output_type": "error",
     "traceback": [
      "\u001b[0;31m---------------------------------------------------------------------------\u001b[0m",
      "\u001b[0;31mImportError\u001b[0m                               Traceback (most recent call last)",
      "\u001b[0;32m/tmp/ipykernel_25389/2756450090.py\u001b[0m in \u001b[0;36m<module>\u001b[0;34m\u001b[0m\n\u001b[0;32m----> 1\u001b[0;31m \u001b[0;32mfrom\u001b[0m \u001b[0mpyesorex\u001b[0m\u001b[0;34m.\u001b[0m\u001b[0mpyesorex\u001b[0m \u001b[0;32mimport\u001b[0m \u001b[0mPyesorex\u001b[0m\u001b[0;34m\u001b[0m\u001b[0;34m\u001b[0m\u001b[0m\n\u001b[0m",
      "\u001b[0;32m~/miniconda3/envs/cpl_py310/lib/python3.10/site-packages/pyesorex/__init__.py\u001b[0m in \u001b[0;36m<module>\u001b[0;34m\u001b[0m\n\u001b[0;32m----> 1\u001b[0;31m \u001b[0;32mfrom\u001b[0m \u001b[0;34m.\u001b[0m\u001b[0mdocFuncs\u001b[0m \u001b[0;32mimport\u001b[0m \u001b[0;34m*\u001b[0m\u001b[0;34m\u001b[0m\u001b[0;34m\u001b[0m\u001b[0m\n\u001b[0m",
      "\u001b[0;32m~/miniconda3/envs/cpl_py310/lib/python3.10/site-packages/pyesorex/docFuncs.py\u001b[0m in \u001b[0;36m<module>\u001b[0;34m\u001b[0m\n\u001b[0;32m----> 1\u001b[0;31m \u001b[0;32mimport\u001b[0m \u001b[0mcpl\u001b[0m\u001b[0;34m.\u001b[0m\u001b[0mui\u001b[0m \u001b[0;32mas\u001b[0m \u001b[0mcplui\u001b[0m\u001b[0;34m\u001b[0m\u001b[0;34m\u001b[0m\u001b[0m\n\u001b[0m\u001b[1;32m      2\u001b[0m \u001b[0;34m\u001b[0m\u001b[0m\n\u001b[1;32m      3\u001b[0m \u001b[0;34m\u001b[0m\u001b[0m\n\u001b[1;32m      4\u001b[0m \u001b[0;32mdef\u001b[0m \u001b[0mmanual\u001b[0m\u001b[0;34m(\u001b[0m\u001b[0mrecipe_name\u001b[0m\u001b[0;34m)\u001b[0m\u001b[0;34m:\u001b[0m\u001b[0;34m\u001b[0m\u001b[0;34m\u001b[0m\u001b[0m\n\u001b[1;32m      5\u001b[0m     \u001b[0mrecipeInstance\u001b[0m \u001b[0;34m=\u001b[0m \u001b[0mcplui\u001b[0m\u001b[0;34m.\u001b[0m\u001b[0mCRecipe\u001b[0m\u001b[0;34m(\u001b[0m\u001b[0mrecipe_name\u001b[0m\u001b[0;34m)\u001b[0m\u001b[0;34m\u001b[0m\u001b[0;34m\u001b[0m\u001b[0m\n",
      "\u001b[0;31mImportError\u001b[0m: /home/ahorton/miniconda3/envs/cpl_py310/bin/../lib/libstdc++.so.6: version `GLIBCXX_3.4.29' not found (required by /home/ahorton/miniconda3/envs/cpl_py310/lib/python3.10/site-packages/cpl.cpython-310-x86_64-linux-gnu.so)"
     ]
    }
   ],
   "source": [
    "from pyesorex.pyesorex import Pyesorex"
   ]
  },
  {
   "cell_type": "markdown",
   "id": "c797bab6-d07b-4274-a733-c29ece9515c5",
   "metadata": {
    "tags": []
   },
   "source": [
    "## Creating a Pyesorex instance\n",
    "\n",
    "If done with no arguments it will look for try to load a `pyesorex.rc` config file in the default location, `~/.pyesorex`. If there is no config file at the default path the parameters will use the default values."
   ]
  },
  {
   "cell_type": "code",
   "execution_count": 3,
   "id": "7677710a-da48-4f73-9428-9a655ca3bdb6",
   "metadata": {},
   "outputs": [
    {
     "ename": "NameError",
     "evalue": "name 'Pyesorex' is not defined",
     "output_type": "error",
     "traceback": [
      "\u001b[0;31m---------------------------------------------------------------------------\u001b[0m",
      "\u001b[0;31mNameError\u001b[0m                                 Traceback (most recent call last)",
      "\u001b[0;32m<ipython-input-3-e781f0bbb56b>\u001b[0m in \u001b[0;36m<module>\u001b[0;34m\u001b[0m\n\u001b[0;32m----> 1\u001b[0;31m \u001b[0mp\u001b[0m \u001b[0;34m=\u001b[0m \u001b[0mPyesorex\u001b[0m\u001b[0;34m(\u001b[0m\u001b[0;34m)\u001b[0m\u001b[0;34m\u001b[0m\u001b[0;34m\u001b[0m\u001b[0m\n\u001b[0m",
      "\u001b[0;31mNameError\u001b[0m: name 'Pyesorex' is not defined"
     ]
    }
   ],
   "source": [
    "p = Pyesorex()"
   ]
  },
  {
   "cell_type": "markdown",
   "id": "bbea3be0-6cb4-471e-a5a6-10a1c416f9be",
   "metadata": {
    "tags": []
   },
   "source": [
    "## Inspecting the current PyEsoRex parameter values"
   ]
  },
  {
   "cell_type": "code",
   "execution_count": null,
   "id": "4e5dc5cc-2cc0-4982-a20c-cfe33e6bceff",
   "metadata": {},
   "outputs": [],
   "source": [
    "print(p.parameters)"
   ]
  },
  {
   "cell_type": "markdown",
   "id": "ce1d6a39-6746-43b5-b5b7-bd5fc98d66b5",
   "metadata": {
    "tags": []
   },
   "source": [
    "## Creating another Pyesorex instance\n",
    "\n",
    "An alternative config file can be specified when instantiating the Pyesorex object."
   ]
  },
  {
   "cell_type": "code",
   "execution_count": null,
   "id": "f82ba1a3-3718-4fd0-a7d7-2b801b42e190",
   "metadata": {},
   "outputs": [],
   "source": [
    "p = Pyesorex(config='pyesorex.rc')"
   ]
  },
  {
   "cell_type": "code",
   "execution_count": null,
   "id": "4da9ce00-b315-4c89-933e-631233f172fd",
   "metadata": {},
   "outputs": [],
   "source": [
    "print(p.parameters)"
   ]
  },
  {
   "cell_type": "markdown",
   "id": "1ad78c2f-b7cd-4ce2-b996-16b211450b5a",
   "metadata": {
    "tags": []
   },
   "source": [
    "## Creating a new config file\n",
    "\n",
    "By default `write_config()` creates a config file from the current PyEsoRex parameter values. If the file already exists it will be moved to `<filename>.bak` before the new file is created. The config path is an optional argument, if not given it will create the config file at the default location, `~/.pyesorex/pyesorex.rc`."
   ]
  },
  {
   "cell_type": "code",
   "execution_count": null,
   "id": "dec75421-6c74-4459-a487-88c7eae2aef7",
   "metadata": {},
   "outputs": [],
   "source": [
    "p.write_config(\"demo.rc\")"
   ]
  },
  {
   "cell_type": "markdown",
   "id": "f2c7dc63-dc9c-4e16-a754-6dd73a54db09",
   "metadata": {
    "tags": []
   },
   "source": [
    "## Creating a new default config file\n",
    "\n",
    "With `defaults=True` `write_config()` creates a config file using the built in default parameter values."
   ]
  },
  {
   "cell_type": "code",
   "execution_count": null,
   "id": "17b9b6fd-86ae-4dc8-98f7-49379d1f5ecf",
   "metadata": {},
   "outputs": [],
   "source": [
    "p.write_config(\"demo_default.rc\", defaults=True)"
   ]
  },
  {
   "cell_type": "markdown",
   "id": "51b16ea3-006d-46f3-9483-ae6b08597db7",
   "metadata": {
    "tags": []
   },
   "source": [
    "## Reading a config file\n",
    "\n",
    "Config files can be read at any time."
   ]
  },
  {
   "cell_type": "code",
   "execution_count": null,
   "id": "74787b23-3148-4c47-ad5f-4490db9644cb",
   "metadata": {},
   "outputs": [],
   "source": [
    "p.read_config(\"demo.rc\")"
   ]
  },
  {
   "cell_type": "code",
   "execution_count": null,
   "id": "01f40269-240a-4fe0-8a92-c3b0a3557fc6",
   "metadata": {},
   "outputs": [],
   "source": [
    "print(p.parameters)"
   ]
  },
  {
   "cell_type": "markdown",
   "id": "cf2daa40-84ee-40f3-b81a-2e74629f1036",
   "metadata": {
    "tags": []
   },
   "source": [
    "## Listing available recipes\n",
    "\n",
    "`get_recipes()` returns a dictionary of the names of all the C and Python recipes found in the recipe directories set in `parameters['recipe_dirs']` together with some of their metadata.\n",
    "\n",
    "`get_recipes_text()` returns a formatted string listing the names of available recipes and their synopses."
   ]
  },
  {
   "cell_type": "code",
   "execution_count": null,
   "id": "dfad66be-a039-486b-974a-e1471e95e5fb",
   "metadata": {},
   "outputs": [],
   "source": [
    "p.get_recipes()"
   ]
  },
  {
   "cell_type": "code",
   "execution_count": null,
   "id": "21de386f-0b88-4502-ab2d-c4a8e224846f",
   "metadata": {},
   "outputs": [],
   "source": [
    "print(p.get_recipes_text())"
   ]
  },
  {
   "cell_type": "markdown",
   "id": "8b5264bb-bbd4-45f1-9eda-2c149310e172",
   "metadata": {
    "tags": []
   },
   "source": [
    "## Loading a recipe\n",
    "\n",
    "If done with no arguments it will try to load a `<recipe_name>.rc` config file in the default location, `~/.pyesorex`. If there is no config file at the default path the parameters will use the default values."
   ]
  },
  {
   "cell_type": "code",
   "execution_count": null,
   "id": "f33f03ec-bd98-4e9f-a251-779ee64bfe7d",
   "metadata": {},
   "outputs": [],
   "source": [
    "p.load_recipe(\"gimasterdark\")"
   ]
  },
  {
   "cell_type": "code",
   "execution_count": null,
   "id": "ada39216-83b4-4d63-aba0-8e6d33d0a9f8",
   "metadata": {},
   "outputs": [],
   "source": [
    "print(p.recipe_parameters)"
   ]
  },
  {
   "cell_type": "markdown",
   "id": "ade64fe8-ba48-492a-b1b1-d0daab4da9f4",
   "metadata": {},
   "source": [
    "Recipes can also be loaded by assigning to the `recipe` property, however in this case there is no option to specify a recipe config file at the same time."
   ]
  },
  {
   "cell_type": "code",
   "execution_count": null,
   "id": "e51daaf5-c1b3-4f3e-b4a1-124474c16556",
   "metadata": {},
   "outputs": [],
   "source": [
    "p.recipe = \"gimasterbias\""
   ]
  },
  {
   "cell_type": "code",
   "execution_count": null,
   "id": "238aaef0-8cc3-4bc2-ae08-f24d9b016278",
   "metadata": {},
   "outputs": [],
   "source": [
    "p.recipe"
   ]
  },
  {
   "cell_type": "code",
   "execution_count": null,
   "id": "56faf15c-7aca-4f82-948d-d651ca686621",
   "metadata": {},
   "outputs": [],
   "source": [
    "print(p.recipe_parameters)"
   ]
  },
  {
   "cell_type": "markdown",
   "id": "76e78810-dd18-41d7-a2b8-580dc5899aa0",
   "metadata": {
    "tags": []
   },
   "source": [
    "## Changing recipe settings\n",
    "\n",
    "The `recipe_parameters` attribute has an `update()` method that takes a dictionary of `<parameter_name>: <new_value>` pairs."
   ]
  },
  {
   "cell_type": "code",
   "execution_count": null,
   "id": "cda76fa9-6fdf-4c0c-9038-482af45e72d3",
   "metadata": {},
   "outputs": [],
   "source": [
    "p.recipe_parameters.update({\"giraffe.stacking.method\":\"median\", \"giraffe.masterbias.bpm.create\":False})"
   ]
  },
  {
   "cell_type": "code",
   "execution_count": null,
   "id": "b9b884f2-508f-4ec5-a43e-1345f93ecc0c",
   "metadata": {},
   "outputs": [],
   "source": [
    "print(p.recipe_parameters)"
   ]
  },
  {
   "cell_type": "markdown",
   "id": "0c2185e5-d3ae-4e95-89ff-524756d1e0e7",
   "metadata": {
    "tags": []
   },
   "source": [
    "## Creating a recipe config file\n",
    "\n",
    "As with PyEsoRex config files this will create a config file using the current setting, unless `defaults` is set to `True`. Again the config path is an optional argument, if not given it will create the config file at the default location, `~/.pyesorex/<recipe_name>.rc`."
   ]
  },
  {
   "cell_type": "code",
   "execution_count": null,
   "id": "24e35712-9bfc-4d5b-901c-964fd5cea473",
   "metadata": {},
   "outputs": [],
   "source": [
    "p.write_recipe_config(\"gimasterbias.rc\")"
   ]
  },
  {
   "cell_type": "code",
   "execution_count": null,
   "id": "5b108343-5684-48dc-8cfd-525b2ad8d578",
   "metadata": {},
   "outputs": [],
   "source": [
    "p.write_recipe_config(\"gimasterbias_defaults.rc\", defaults=True)"
   ]
  },
  {
   "cell_type": "markdown",
   "id": "422ce80f-e4ec-4fd2-8d40-ad88ccbf7658",
   "metadata": {
    "tags": []
   },
   "source": [
    "## Reading a recipe config file"
   ]
  },
  {
   "cell_type": "code",
   "execution_count": null,
   "id": "5b52d5f2-4152-4c3b-9b84-e3b1dceba55b",
   "metadata": {},
   "outputs": [],
   "source": [
    "p.read_recipe_config(\"gimasterbias_defaults.rc\")"
   ]
  },
  {
   "cell_type": "code",
   "execution_count": null,
   "id": "b9ed1789-98ee-4dcb-acb2-ca34966c03f5",
   "metadata": {},
   "outputs": [],
   "source": [
    "print(p.recipe_parameters)"
   ]
  },
  {
   "cell_type": "markdown",
   "id": "d14f84f7-bad3-43b3-8392-52b3bde6dcc8",
   "metadata": {
    "tags": []
   },
   "source": [
    "## Setting the SOF location\n",
    "\n",
    "The SOF file lists the paths and types of the FITS files that the recipe will process."
   ]
  },
  {
   "cell_type": "code",
   "execution_count": null,
   "id": "79b17482-db16-447a-9fcc-61106c77a2f4",
   "metadata": {},
   "outputs": [],
   "source": [
    "p.sof_location = '0001.gimasterbias.sof'"
   ]
  },
  {
   "cell_type": "code",
   "execution_count": null,
   "id": "c5ce48f8-2c18-446d-b224-f71685ef66d3",
   "metadata": {},
   "outputs": [],
   "source": [
    "p.sof_location"
   ]
  },
  {
   "cell_type": "markdown",
   "id": "c4627ca9-31a8-4685-af22-43e2dc7e817b",
   "metadata": {
    "tags": []
   },
   "source": [
    "## Running the recipe"
   ]
  },
  {
   "cell_type": "code",
   "execution_count": null,
   "id": "2e5ed9ce-3e6d-49f7-85d6-cf2cfd64b18a",
   "metadata": {},
   "outputs": [],
   "source": [
    "result = p.run()"
   ]
  },
  {
   "cell_type": "markdown",
   "id": "bc4fb37f-d183-4170-a6f8-7d8e79699785",
   "metadata": {
    "tags": []
   },
   "source": [
    "## Inspecting the result\n",
    "\n",
    "The `run()` method returns a `cpl.ui.FrameSet` object which contains the output `cpl.ui.Frame`s of the recipe. Each `Frame` contains the path to an output FITS file, and some basic metadata."
   ]
  },
  {
   "cell_type": "code",
   "execution_count": null,
   "id": "da694624-6932-45c3-94f3-fa384d16fa4d",
   "metadata": {},
   "outputs": [],
   "source": [
    "result"
   ]
  },
  {
   "cell_type": "code",
   "execution_count": null,
   "id": "a95b1026-bd9e-4612-96f0-776ffd751fac",
   "metadata": {},
   "outputs": [],
   "source": [
    "for frame in result:\n",
    "    print(repr(frame))"
   ]
  },
  {
   "cell_type": "markdown",
   "id": "6bd6dbde-3c88-43b2-a97f-2e48308f241c",
   "metadata": {
    "tags": []
   },
   "source": [
    "### Converting the result to an HDU list\n",
    "\n",
    "`Frame` objects can open the corresponding FITS file as an `astropy.io.fits.HDUList` object. "
   ]
  },
  {
   "cell_type": "code",
   "execution_count": null,
   "id": "da99c6f2-3a9b-4a49-b5f7-3e2aa05f9f86",
   "metadata": {},
   "outputs": [],
   "source": [
    "master_bias_hdulist = result[0].as_hdulist()"
   ]
  },
  {
   "cell_type": "code",
   "execution_count": null,
   "id": "0dd78d6a-12c2-471e-ad4e-619523ea2f78",
   "metadata": {},
   "outputs": [],
   "source": [
    "master_bias_hdulist"
   ]
  },
  {
   "cell_type": "code",
   "execution_count": null,
   "id": "2ae8f323-2d6d-49ea-b932-aced89ea77d7",
   "metadata": {
    "scrolled": true,
    "tags": []
   },
   "outputs": [],
   "source": [
    "master_bias_hdulist[0].header"
   ]
  },
  {
   "cell_type": "code",
   "execution_count": null,
   "id": "bd0a3d4a-5f87-4a2e-8978-2f6c8e05b758",
   "metadata": {},
   "outputs": [],
   "source": [
    "master_bias_hdulist[0].data"
   ]
  },
  {
   "cell_type": "markdown",
   "id": "b46e99dd-f67e-45e3-950e-f38d15f688e7",
   "metadata": {
    "tags": []
   },
   "source": [
    "### Converting the result to CCDData\n",
    "\n",
    "`Frame` can also open the corresponding FITS file as an `astropy.nddata.CCDData` object."
   ]
  },
  {
   "cell_type": "code",
   "execution_count": null,
   "id": "f851c8d8-5fab-427e-9030-0f7f2aa934a4",
   "metadata": {},
   "outputs": [],
   "source": [
    "master_bias = result[0].as_ccddata(unit=\"adu\")"
   ]
  },
  {
   "cell_type": "code",
   "execution_count": null,
   "id": "856cc38a-b41b-499c-9c86-c75ec1ac042b",
   "metadata": {},
   "outputs": [],
   "source": [
    "master_bias"
   ]
  },
  {
   "cell_type": "code",
   "execution_count": null,
   "id": "d75f1295-cfa3-4306-bf1c-30327ad09aba",
   "metadata": {
    "tags": []
   },
   "outputs": [],
   "source": [
    "norm = ImageNormalize(master_bias, PercentileInterval(99.0))\n",
    "plt.imshow(master_bias, norm=norm, interpolation='nearest')\n",
    "plt.colorbar();"
   ]
  },
  {
   "cell_type": "code",
   "execution_count": null,
   "id": "83fe9f3a-ded2-42c8-8e95-5ff935ab2e48",
   "metadata": {},
   "outputs": [],
   "source": []
  },
  {
   "cell_type": "code",
   "execution_count": null,
   "id": "b6294658-8048-4724-9c97-0ec119159c00",
   "metadata": {},
   "outputs": [],
   "source": []
  }
 ],
 "metadata": {
  "kernelspec": {
   "display_name": "cpl_py310",
   "language": "python",
   "name": "cpl_py310"
  },
  "language_info": {
   "codemirror_mode": {
    "name": "ipython",
    "version": 3
   },
   "file_extension": ".py",
   "mimetype": "text/x-python",
   "name": "python",
   "nbconvert_exporter": "python",
   "pygments_lexer": "ipython3",
   "version": "3.10.0"
  }
 },
 "nbformat": 4,
 "nbformat_minor": 5
}
