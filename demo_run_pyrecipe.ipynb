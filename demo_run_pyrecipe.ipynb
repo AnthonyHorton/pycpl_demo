{
 "cells": [
  {
   "cell_type": "markdown",
   "id": "e4a6bcdc-f0e7-4030-a4c8-74cedc2527f5",
   "metadata": {
    "tags": []
   },
   "source": [
    "# PyCPL recipe basics\n",
    "\n",
    "## Running PyCPL recipes using PyEsoRex\n",
    "\n",
    "The processes for running recipes implemented in Python is exactly the same as for recipes implemented in C. The PyEsoRex config just has to include the directory or directories containing the Python recipes.\n",
    "\n",
    "### Create Pyesorex instance"
   ]
  },
  {
   "cell_type": "code",
   "execution_count": 1,
   "id": "27595660-7c72-476f-84f1-3afc76cf0254",
   "metadata": {},
   "outputs": [],
   "source": [
    "from pyesorex.pyesorex import Pyesorex"
   ]
  },
  {
   "cell_type": "code",
   "execution_count": 2,
   "id": "c7b4a50c-e992-411f-8062-ad4720fa173e",
   "metadata": {},
   "outputs": [
    {
     "name": "stdout",
     "output_type": "stream",
     "text": [
      "[ INFO  ] Read config file '/home/ahorton/Documents/CPL/git/demos/demo2.rc'.\n",
      "[ INFO  ] This is PyEsoRex, version 0.9.0.\n"
     ]
    }
   ],
   "source": [
    "p = Pyesorex(config=\"demo2.rc\")"
   ]
  },
  {
   "cell_type": "code",
   "execution_count": 3,
   "id": "51fd80f6-a06a-4b1b-b454-1245a7ec4c76",
   "metadata": {},
   "outputs": [
    {
     "name": "stdout",
     "output_type": "stream",
     "text": [
      "ParameterList:\n",
      "    config='/home/ahorton/Documents/CPL/git/demos/demo2.rc'\n",
      "    create_config='False'\n",
      "    log_dir='.'\n",
      "    log_file='pyesorex.log'\n",
      "    log_level='debug'\n",
      "    msg_level='info'\n",
      "    recipes=False\n",
      "    recipe_config=''\n",
      "    recipe_dirs='/home/ahorton/Documents/CPL/giraffe/giraf-kit-2.16.7/giraf-2.16.7/recipes/.libs:recipes'\n",
      "    display_import_errors=False\n",
      "\n"
     ]
    }
   ],
   "source": [
    "print(p.parameters)"
   ]
  },
  {
   "cell_type": "markdown",
   "id": "6dd6141d-63e2-4d1f-880c-62b909ad01e1",
   "metadata": {
    "tags": []
   },
   "source": [
    "### Listing all available recipes\n",
    "\n",
    "C and Python recipes are both listed, in the same format."
   ]
  },
  {
   "cell_type": "code",
   "execution_count": 4,
   "id": "64a2f747-51af-422c-883a-f5389f414cba",
   "metadata": {},
   "outputs": [
    {
     "name": "stdout",
     "output_type": "stream",
     "text": [
      "List of available recipes:\n",
      "\n",
      "  giframestack          : Creates a stacked image from a set of raw images.\n",
      "  gimasterbias          : Creates a master bias image from a set of raw biases.\n",
      "  gimasterdark          : Creates a master dark image from a set of raw dark frames.\n",
      "  gimasterflat          : Create the fiber master flat field and the localization mask.\n",
      "  giscience             : Process a science observation.\n",
      "  gistandard            : Process a spectro-photometric standard star observation and compute the instrument response curve.\n",
      "  giwavecalibration     : Compute dispersion solution from an arc-lamp spectrum.\n",
      "  hellofits             : Says hello to each FITS file.\n",
      "  hellouser             : Greets the user and lists the first N FITS files.\n",
      "  example               : Example of some basic data reduction processes.\n",
      "\n"
     ]
    }
   ],
   "source": [
    "print(p.get_recipes_text())"
   ]
  },
  {
   "cell_type": "markdown",
   "id": "54ed708a-d13d-4b4e-96ec-973eabdfcda4",
   "metadata": {
    "tags": []
   },
   "source": [
    "### Loading the recipe\n",
    "\n",
    "Python recipes are loading in the same way as C recipes. In this case we get a warning because the recipe has no parameters attribute."
   ]
  },
  {
   "cell_type": "code",
   "execution_count": 5,
   "id": "2f04afa7-0a9c-4ab0-a308-81a8c7d4015b",
   "metadata": {},
   "outputs": [
    {
     "name": "stdout",
     "output_type": "stream",
     "text": [
      "[ INFO  ] Loaded recipe 'hellofits'.\n",
      "[WARNING] Recipe 'hellofits' has no parameters attribute, cannot access recipe settings or use recipe config files.\n"
     ]
    }
   ],
   "source": [
    "p.recipe = \"hellofits\""
   ]
  },
  {
   "cell_type": "code",
   "execution_count": 6,
   "id": "20a4a06c-51c3-4107-9de5-8173934c6b19",
   "metadata": {},
   "outputs": [
    {
     "data": {
      "text/plain": [
       "<cpl.ui.Recipe hellofits>"
      ]
     },
     "execution_count": 6,
     "metadata": {},
     "output_type": "execute_result"
    }
   ],
   "source": [
    "p.recipe"
   ]
  },
  {
   "cell_type": "markdown",
   "id": "365eadee-6ff8-49de-8c9b-c136843fae3e",
   "metadata": {
    "tags": []
   },
   "source": [
    "### Setting the SOF location"
   ]
  },
  {
   "cell_type": "code",
   "execution_count": 7,
   "id": "18558a3b-a2fa-44c6-8e77-cb53f0e63184",
   "metadata": {},
   "outputs": [],
   "source": [
    "p.sof_location = \"0001.gimasterbias.sof\""
   ]
  },
  {
   "cell_type": "markdown",
   "id": "f4497e95-fc61-4f74-9f01-d3d77f647956",
   "metadata": {
    "tags": []
   },
   "source": [
    "### Running the recipe"
   ]
  },
  {
   "cell_type": "code",
   "execution_count": 8,
   "id": "ca1fa2c2-0780-4b67-b36a-3daf09f96df1",
   "metadata": {},
   "outputs": [
    {
     "name": "stdout",
     "output_type": "stream",
     "text": [
      "Hello, GIRAF.2019-06-25T09:47:34.623.fits![ INFO  ] Running recipe 'hellofits'...\n",
      "\n",
      "Hello, GIRAF.2019-06-25T09:52:45.527.fits!\n",
      "Hello, GIRAF.2019-06-25T09:57:55.430.fits!\n",
      "Hello, GIRAF.2019-06-25T10:03:05.335.fits!\n",
      "Hello, GIRAF.2019-06-25T10:08:15.239.fits!\n",
      "[ INFO  ] Recipe 'hellofits' complete.\n"
     ]
    }
   ],
   "source": [
    "result = p.run()"
   ]
  },
  {
   "cell_type": "markdown",
   "id": "710b8cc9-ed72-489c-9107-9b13b380ff48",
   "metadata": {
    "tags": []
   },
   "source": [
    "## PyCPL recipes with parameters\n",
    "\n",
    "Recipes will usually have parameters to control the actions of the recipe.\n",
    "\n",
    "### Loading the recipe"
   ]
  },
  {
   "cell_type": "code",
   "execution_count": 9,
   "id": "3dd7f7fc-1733-46e5-aece-6a78fa505a09",
   "metadata": {},
   "outputs": [
    {
     "name": "stdout",
     "output_type": "stream",
     "text": [
      "[ INFO  ] Loaded recipe 'hellouser'.\n"
     ]
    }
   ],
   "source": [
    "p.recipe = \"hellouser\""
   ]
  },
  {
   "cell_type": "code",
   "execution_count": 10,
   "id": "f95e8134-037d-46ff-9322-8b6e96d74f7f",
   "metadata": {},
   "outputs": [
    {
     "data": {
      "text/plain": [
       "<cpl.ui.Recipe hellouser>"
      ]
     },
     "execution_count": 10,
     "metadata": {},
     "output_type": "execute_result"
    }
   ],
   "source": [
    "p.recipe"
   ]
  },
  {
   "cell_type": "markdown",
   "id": "6ac70655-b713-441b-a70e-ec6157c707df",
   "metadata": {
    "tags": []
   },
   "source": [
    "### Inspecting the parameters"
   ]
  },
  {
   "cell_type": "code",
   "execution_count": 11,
   "id": "524b1cdd-4a40-4e10-accd-507302103471",
   "metadata": {},
   "outputs": [
    {
     "name": "stdout",
     "output_type": "stream",
     "text": [
      "ParameterList:\n",
      "    hellouser.username='Unknown User'\n",
      "    hellouser.nfits=3\n",
      "    hellouser.reaction='nice'\n",
      "\n"
     ]
    }
   ],
   "source": [
    "print(p.recipe_parameters)"
   ]
  },
  {
   "cell_type": "markdown",
   "id": "ed65dab8-add1-4a0c-b10f-57f8e78bdf01",
   "metadata": {
    "tags": []
   },
   "source": [
    "### Running the recipe"
   ]
  },
  {
   "cell_type": "code",
   "execution_count": 12,
   "id": "5983d0f8-b2ad-47cf-8eea-e97b63b0b984",
   "metadata": {},
   "outputs": [
    {
     "name": "stdout",
     "output_type": "stream",
     "text": [
      "Hello, Unknown User, nice to see you.\n",
      "[ INFO  ] Running recipe 'hellouser'...\n",
      "\n",
      "The first 3 FITS files are:\n",
      "\n",
      "/home/ahorton/Documents/CPL/giraffe/gimasterbias_sample_sof/raw/gimasterbias/GIRAF.2019-06-25T09:47:34.623.fits\n",
      "/home/ahorton/Documents/CPL/giraffe/gimasterbias_sample_sof/raw/gimasterbias/GIRAF.2019-06-25T09:52:45.527.fits\n",
      "/home/ahorton/Documents/CPL/giraffe/gimasterbias_sample_sof/raw/gimasterbias/GIRAF.2019-06-25T09:57:55.430.fits\n",
      "[ INFO  ] Recipe 'hellouser' complete.\n"
     ]
    }
   ],
   "source": [
    "p.run()"
   ]
  },
  {
   "cell_type": "markdown",
   "id": "150547c5-be6b-4248-94fa-dc90e006aada",
   "metadata": {
    "tags": []
   },
   "source": [
    "### Changing the recipe parameters"
   ]
  },
  {
   "cell_type": "code",
   "execution_count": 13,
   "id": "147e3f4b-58ce-46cc-a8ef-8d39023aeb85",
   "metadata": {},
   "outputs": [],
   "source": [
    "p.recipe_parameters.update({\"hellouser.username\": \"Anthony\"})"
   ]
  },
  {
   "cell_type": "code",
   "execution_count": 14,
   "id": "1e18f1bc-107e-450e-9e06-34a6c8f85ae8",
   "metadata": {},
   "outputs": [
    {
     "name": "stdout",
     "output_type": "stream",
     "text": [
      "ParameterList:\n",
      "    hellouser.username='Anthony'\n",
      "    hellouser.nfits=3\n",
      "    hellouser.reaction='nice'\n",
      "\n"
     ]
    }
   ],
   "source": [
    "print(p.recipe_parameters)"
   ]
  },
  {
   "cell_type": "code",
   "execution_count": 15,
   "id": "eb5e9f8b-a523-4c63-a549-71f3ccf6871b",
   "metadata": {},
   "outputs": [
    {
     "name": "stdout",
     "output_type": "stream",
     "text": [
      "Hello, Anthony, nice to see you.\n",
      "\n",
      "The first 3 FITS files are:\n",
      "\n",
      "/home/ahorton/Documents/CPL/giraffe/gimasterbias_sample_sof/raw/gimasterbias/GIRAF.2019-06-25T09:47:34.623.fits\n",
      "/home/ahorton/Documents/CPL/giraffe/gimasterbias_sample_sof/raw/gimasterbias/GIRAF.2019-06-25T09:52:45.527.fits\n",
      "/home/ahorton/Documents/CPL/giraffe/gimasterbias_sample_sof/raw/gimasterbias/GIRAF.2019-06-25T09:57:55.430.fits\n",
      "[ INFO  ] Running recipe 'hellouser'...\n",
      "[ INFO  ] Recipe 'hellouser' complete.\n"
     ]
    }
   ],
   "source": [
    "p.run()"
   ]
  },
  {
   "cell_type": "markdown",
   "id": "997cf2e4-8030-4719-ae30-8447e688bc27",
   "metadata": {
    "tags": []
   },
   "source": [
    "### Creating a recipe config file"
   ]
  },
  {
   "cell_type": "code",
   "execution_count": 16,
   "id": "a20f8825-43bb-4cbf-a326-03ce88da457f",
   "metadata": {},
   "outputs": [
    {
     "name": "stdout",
     "output_type": "stream",
     "text": [
      "[ INFO  ] Saving existing config as /home/ahorton/Documents/CPL/git/demos/hellouser.rc.bak\n",
      "[ INFO  ] Wrote config file '/home/ahorton/Documents/CPL/git/demos/hellouser.rc'.\n"
     ]
    }
   ],
   "source": [
    "p.write_recipe_config(\"hellouser.rc\")"
   ]
  },
  {
   "cell_type": "markdown",
   "id": "2ffc5bbb-0ea5-40a3-b222-5e37ac74760b",
   "metadata": {
    "tags": []
   },
   "source": [
    "### Reading a recipe config file"
   ]
  },
  {
   "cell_type": "code",
   "execution_count": 17,
   "id": "5e24dcf9-69c0-455a-864f-5f50e3ff7e19",
   "metadata": {},
   "outputs": [
    {
     "name": "stdout",
     "output_type": "stream",
     "text": [
      "[ INFO  ] Read config file '/home/ahorton/Documents/CPL/git/demos/hellouser2.rc'.\n"
     ]
    }
   ],
   "source": [
    "p.read_recipe_config(\"hellouser2.rc\")"
   ]
  },
  {
   "cell_type": "code",
   "execution_count": 18,
   "id": "d6f6e3b2-e62b-4bfd-960d-c6fbac9a2770",
   "metadata": {},
   "outputs": [
    {
     "name": "stdout",
     "output_type": "stream",
     "text": [
      "Hello, Anthony, nasty to see you.\n",
      "[ INFO  ] Running recipe 'hellouser'...\n",
      "\n",
      "The first 3 FITS files are:\n",
      "\n",
      "/home/ahorton/Documents/CPL/giraffe/gimasterbias_sample_sof/raw/gimasterbias/GIRAF.2019-06-25T09:47:34.623.fits\n",
      "/home/ahorton/Documents/CPL/giraffe/gimasterbias_sample_sof/raw/gimasterbias/GIRAF.2019-06-25T09:52:45.527.fits\n",
      "/home/ahorton/Documents/CPL/giraffe/gimasterbias_sample_sof/raw/gimasterbias/GIRAF.2019-06-25T09:57:55.430.fits\n",
      "[ INFO  ] Recipe 'hellouser' complete.\n"
     ]
    }
   ],
   "source": [
    "p.run()"
   ]
  },
  {
   "cell_type": "code",
   "execution_count": null,
   "id": "18b85240-ee84-4755-9d64-120c4583f9e3",
   "metadata": {},
   "outputs": [],
   "source": []
  }
 ],
 "metadata": {
  "kernelspec": {
   "display_name": "Python 3 (ipykernel)",
   "language": "python",
   "name": "python3"
  },
  "language_info": {
   "codemirror_mode": {
    "name": "ipython",
    "version": 3
   },
   "file_extension": ".py",
   "mimetype": "text/x-python",
   "name": "python",
   "nbconvert_exporter": "python",
   "pygments_lexer": "ipython3",
   "version": "3.9.7"
  }
 },
 "nbformat": 4,
 "nbformat_minor": 5
}
